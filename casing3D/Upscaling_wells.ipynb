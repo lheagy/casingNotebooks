{
 "cells": [
  {
   "cell_type": "markdown",
   "metadata": {},
   "source": [
    "# Upscaling wells\n",
    "\n",
    "In this example, we examine the impact of upscaling the well using\n",
    "- assuming the well is a solid rod of steel\n",
    "- upscaling such that the $\\sigma t$ is the same in both cases\n",
    "\n",
    "These experiments are conducted at DC"
   ]
  },
  {
   "cell_type": "code",
   "execution_count": 3,
   "metadata": {
    "collapsed": true
   },
   "outputs": [],
   "source": [
    "import discretize\n",
    "from discretize import utils\n",
    "import numpy as np\n",
    "import scipy.sparse as sp\n",
    "import sympy\n",
    "import matplotlib.pyplot as plt\n",
    "from matplotlib.colors import LogNorm\n",
    "from scipy.constants import mu_0, inch, foot\n",
    "\n",
    "from SimPEG.EM import TDEM\n",
    "from SimPEG import Utils, Maps\n",
    "\n",
    "import casingSimulations\n",
    "\n",
    "from pymatsolver import Pardiso\n",
    "\n",
    "%matplotlib inline"
   ]
  },
  {
   "cell_type": "code",
   "execution_count": 6,
   "metadata": {
    "collapsed": true
   },
   "outputs": [],
   "source": [
    "simDir = 'upscaling_wells_DC'"
   ]
  },
  {
   "cell_type": "markdown",
   "metadata": {},
   "source": [
    "## Set up parameters"
   ]
  },
  {
   "cell_type": "code",
   "execution_count": 7,
   "metadata": {
    "collapsed": true
   },
   "outputs": [],
   "source": [
    "# Casing parameters\n",
    "casing_d = 20e-2 # first pass, lets use a 20cm casing diameter\n",
    "casing_t = 1e-2 # 1cm casing thickness\n",
    "casing_l = 1000 # here we use a 1km well and will explore the impacts of meshing choices\n",
    "\n",
    "sigma_back = 1e-1\n",
    "sigma_inside = 1.\n",
    "\n",
    "src_a = np.r_[0., np.pi, 0.]\n",
    "src_b = np.r_[1e3, np.pi, 0.]"
   ]
  },
  {
   "cell_type": "code",
   "execution_count": 8,
   "metadata": {
    "collapsed": false
   },
   "outputs": [],
   "source": [
    "# set up the casing properties\n",
    "cp = casingSimulations.CasingParameters(\n",
    "    directory=simDir,\n",
    "    sigma_back = sigma_back,\n",
    "    sigma_layer = sigma_back,\n",
    "    sigma_inside = sigma_inside,\n",
    "    sigma_air = 1e-5, \n",
    "    casing_d = casing_d,\n",
    "    casing_l = casing_l,\n",
    "    casing_t = casing_t, \n",
    "    src_a = src_a,\n",
    "    src_b = src_b \n",
    "#     mur_casing = 1.\n",
    ")"
   ]
  },
  {
   "cell_type": "code",
   "execution_count": 9,
   "metadata": {
    "collapsed": true
   },
   "outputs": [],
   "source": [
    "cp_solid_steel = cp.copy()\n",
    "cp_solid_steel.sigma_inside = cp_solid_steel.sigma_casing"
   ]
  },
  {
   "cell_type": "code",
   "execution_count": 14,
   "metadata": {
    "collapsed": false
   },
   "outputs": [],
   "source": [
    "sigmat = (cp.casing_t * cp.sigma_casing) / cp.casing_r\n",
    "cp_sigmat = cp.copy()\n",
    "cp_sigmat.sigma_inside = sigmat\n",
    "cp_sigmat.sigma_casing = sigmat"
   ]
  },
  {
   "cell_type": "markdown",
   "metadata": {},
   "source": [
    "## mesh"
   ]
  },
  {
   "cell_type": "code",
   "execution_count": null,
   "metadata": {
    "collapsed": true
   },
   "outputs": [],
   "source": []
  }
 ],
 "metadata": {
  "kernelspec": {
   "display_name": "Python 2",
   "language": "python",
   "name": "python2"
  },
  "language_info": {
   "codemirror_mode": {
    "name": "ipython",
    "version": 2
   },
   "file_extension": ".py",
   "mimetype": "text/x-python",
   "name": "python",
   "nbconvert_exporter": "python",
   "pygments_lexer": "ipython2",
   "version": "2.7.13"
  }
 },
 "nbformat": 4,
 "nbformat_minor": 2
}
